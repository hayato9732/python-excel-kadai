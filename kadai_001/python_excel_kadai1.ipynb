{
  "nbformat": 4,
  "nbformat_minor": 0,
  "metadata": {
    "colab": {
      "provenance": []
    },
    "kernelspec": {
      "name": "python3",
      "display_name": "Python 3"
    },
    "language_info": {
      "name": "python"
    }
  },
  "cells": [
    {
      "cell_type": "code",
      "execution_count": 3,
      "metadata": {
        "colab": {
          "base_uri": "https://localhost:8080/",
          "height": 36
        },
        "id": "5qhgeHBgyTvy",
        "outputId": "469254b0-49f1-4d38-b56e-240f036ebe3e"
      },
      "outputs": [
        {
          "output_type": "execute_result",
          "data": {
            "text/plain": [
              "'請求書_20241209.xlsx'"
            ],
            "application/vnd.google.colaboratory.intrinsic+json": {
              "type": "string"
            }
          },
          "metadata": {},
          "execution_count": 3
        }
      ],
      "source": [
        "import pandas as pd\n",
        "from openpyxl import Workbook\n",
        "from datetime import datetime\n",
        "\n",
        "# 現在の日付を取得（例: 2023年5月20日）\n",
        "today = datetime.today().strftime('%Y%m%d')\n",
        "\n",
        "# 請求書ファイル名\n",
        "file_name = f\"請求書_{today}.xlsx\"\n",
        "\n",
        "# 新規ワークブックを作成\n",
        "wb = Workbook()\n",
        "\n",
        "# ワークシートを取得\n",
        "ws = wb.active\n",
        "ws.title = \"請求書\"\n",
        "\n",
        "# 請求書のタイトルと会社情報を設定\n",
        "ws['B2'] = '請求書'\n",
        "ws['B4'] = '株式会社ABC'\n",
        "ws['B5'] = '〒101-0022 東京都千代田区神田練塀町300'\n",
        "ws['B6'] = 'TEL: 03-1234-5678  FAX: 03-1234-5678'\n",
        "ws['B7'] = '担当者名: 鈴木一郎 様'\n",
        "\n",
        "# 発行日と請求書番号を設定\n",
        "ws['F4'] = f'発行日: {today}'\n",
        "\n",
        "# 商品情報のヘッダー\n",
        "ws['B10'] = '商品名'\n",
        "ws['C10'] = '数量'\n",
        "ws['D10'] = '単価'\n",
        "ws['E10'] = '金額'\n",
        "\n",
        "# 商品情報を入力\n",
        "products = [\n",
        "    ['商品A', 2, 10000, 20000],\n",
        "    ['商品B', 1, 15000, 15000]\n",
        "]\n",
        "\n",
        "# 商品データを追加（明示的にセルを指定）\n",
        "row_num = 11  # 商品情報が始まる行\n",
        "for product in products:\n",
        "    ws[f'B{row_num}'] = product[0]  # 商品名\n",
        "    ws[f'C{row_num}'] = product[1]  # 数量\n",
        "    ws[f'D{row_num}'] = product[2]  # 単価\n",
        "    ws[f'E{row_num}'] = product[3]  # 金額\n",
        "    row_num += 1  # 次の行へ\n",
        "\n",
        "# 合計金額、消費税、税込み合計の計算\n",
        "total_amount = sum([product[3] for product in products])  # 金額の合計\n",
        "tax_rate = 0.10  # 消費税率10%\n",
        "tax_amount = total_amount * tax_rate  # 消費税額\n",
        "total_with_tax = total_amount + tax_amount  # 税込み合計\n",
        "\n",
        "# 合計金額、消費税、税込み合計を入力\n",
        "ws['B15'] = '合計'\n",
        "ws['E15'] = total_amount\n",
        "ws['B16'] = '消費税 (10%)'\n",
        "ws['E16'] = tax_amount\n",
        "ws['B17'] = '税込合計'\n",
        "ws['E17'] = total_with_tax\n",
        "\n",
        "# ファイルを保存\n",
        "wb.save(file_name)\n",
        "\n",
        "# ファイル名を表示（保存先）\n",
        "file_name"
      ]
    }
  ]
}